{
 "cells": [
  {
   "cell_type": "markdown",
   "metadata": {},
   "source": []
  },
  {
   "cell_type": "code",
   "execution_count": 339,
   "metadata": {},
   "outputs": [],
   "source": [
    "import numpy as np\n",
    "import pandas as pd\n",
    "import random\n",
    "import matplotlib.pyplot as plt\n",
    "%matplotlib inline"
   ]
  },
  {
   "cell_type": "code",
   "execution_count": 363,
   "metadata": {},
   "outputs": [],
   "source": [
    "#Dynamics \n",
    "def new_state(x, u):\n",
    "    return x-u\n",
    "\n",
    "#Cost function:\n",
    "def revenue(pt, u):\n",
    "    return pt*u\n",
    "\n",
    "    \n",
    "def generate_demand_curve(p, N_states,  degree=1):\n",
    "    #We se tthe curve such that at £25 we have a demand which is 30% of total capacity, when degree =1\n",
    "    return [(N_states*0.3*25)*((1/price)**degree)+1   for price in p]\n",
    "    \n",
    "\n",
    "def generate_prices(N_steps, min_price, max_price):\n",
    "    \n",
    "    P = np.random.uniform(low=min_price, high= max_price, size=N_steps)\n",
    "    P = list(P)\n",
    "    P.sort()\n",
    "    return P\n",
    "    \n",
    "    \n",
    "\n",
    "def check_constraint(x,u):\n",
    "    if ((u <= x) & (u>=0)):\n",
    "        return True\n",
    "    else:\n",
    "        return False\n",
    "    \n",
    "\n",
    "    \n",
    "    \n",
    "def run_dp(N_steps, N_states, min_price, max_price):\n",
    "    \n",
    "    #This generate a vector of probabilities of having k in [0,N_states] bookings for class n in [0, N_classes], p(N_classes) << p(0)\n",
    "    #D = generate_demands(N_steps, N_states)\n",
    "    #k = [i for i in range(N_states)]\n",
    "    #return [int(m) for m in [np.dot(d,k) for d in D]]\n",
    "    \n",
    "    P = generate_prices(N_steps, min_price, max_price)\n",
    "    D = generate_demand_curve(P, N_states, degree=1)\n",
    "\n",
    "    J = np.zeros((N_steps, N_states) ) #Cost \n",
    "    J[:]= np.nan\n",
    "    U = np.zeros((N_steps, N_states) ) #Optimal move\n",
    "    U[:] = np.nan\n",
    "                          \n",
    "    \n",
    "    for t in reversed(range(N_steps)):\n",
    "        \n",
    "        p = P[t]\n",
    "        exp_d = int(D[t]) #expected demand, floored to the closest integer\n",
    "        #exp_d = int(np.dot(d, k)) #expected demand, floored to the closest integer\n",
    "        print(f'Expected demand at this stage is {exp_d} for price {p}')\n",
    "        N_controls = min(exp_d, N_states)\n",
    "        \n",
    "        J_local = np.zeros((N_controls, N_states))\n",
    "        J_local[:] = np.nan\n",
    "                    \n",
    "                          \n",
    "        for x in range(N_states):\n",
    "             for u in range(N_controls):\n",
    "                if (t==N_steps -1):\n",
    "                    J_local[u][x] = p*min(u,x)\n",
    "                else:\n",
    "                    if check_constraint(x,u):\n",
    "                        J_local[u][x] = p*u + J[t+1][new_state(x,u)]\n",
    "              \n",
    "       \n",
    "        #print(J_local)\n",
    "        J[t] = np.nanmax(J_local, axis=0)\n",
    "        \n",
    "        U[t] = np.nanargmax(J_local, axis=0)\n",
    "   \n",
    "        #print('-'*30)\n",
    "        \n",
    "        \n",
    "    return J, U, P              \n",
    "                        \n",
    "            \n",
    "                            \n",
    "                    \n",
    "                \n",
    "def construct_optimal_trajectory(J, U):\n",
    "    N_steps, N_states  = J.shape\n",
    "    x = N_states-1 #Start with aircraft empty\n",
    "    start = J[0][x]\n",
    "    opt_control = []\n",
    "    for t in range(N_steps):\n",
    "        u = int(U[t][x])\n",
    "        opt_control.append(u)\n",
    "        x = new_state(x,u)\n",
    "        \n",
    "        \n",
    "    return opt_control\n",
    "    \n",
    "    \n",
    "        \n",
    "    \n",
    "    \n",
    "    "
   ]
  },
  {
   "cell_type": "code",
   "execution_count": 385,
   "metadata": {},
   "outputs": [
    {
     "name": "stdout",
     "output_type": "stream",
     "text": [
      "Expected demand at this stage is 4 for price 341.8286076012876\n",
      "Expected demand at this stage is 4 for price 330.97488514723295\n",
      "Expected demand at this stage is 6 for price 207.5181413405632\n",
      "Expected demand at this stage is 7 for price 174.0378362243275\n",
      "Expected demand at this stage is 7 for price 170.6898732863003\n",
      "Expected demand at this stage is 8 for price 162.36657583429468\n",
      "Expected demand at this stage is 9 for price 132.7035524601605\n",
      "Expected demand at this stage is 10 for price 117.9351641893118\n",
      "Expected demand at this stage is 13 for price 95.3729954199502\n",
      "Expected demand at this stage is 17 for price 72.17033363509657\n"
     ]
    }
   ],
   "source": [
    "N_steps = 10\n",
    "N_states = 156+1\n",
    "min_price = 25\n",
    "max_price = 400\n",
    "\n",
    "\n",
    "J, U = run_dp(N_steps, N_states, min_price, max_price)"
   ]
  },
  {
   "cell_type": "code",
   "execution_count": 423,
   "metadata": {},
   "outputs": [],
   "source": [
    "def DV(j,x):\n",
    "    return J[j][x]-J[j][x-1]"
   ]
  },
  {
   "cell_type": "code",
   "execution_count": 426,
   "metadata": {},
   "outputs": [
    {
     "data": {
      "text/plain": [
       "95.3729954199498"
      ]
     },
     "execution_count": 426,
     "metadata": {},
     "output_type": "execute_result"
    }
   ],
   "source": [
    "DV(0,56)"
   ]
  },
  {
   "cell_type": "code",
   "execution_count": 441,
   "metadata": {},
   "outputs": [
    {
     "data": {
      "text/plain": [
       "[16, 12, 9, 8, 7, 6, 6, 5, 3, 3]"
      ]
     },
     "execution_count": 441,
     "metadata": {},
     "output_type": "execute_result"
    }
   ],
   "source": [
    "construct_optimal_trajectory(J,U)"
   ]
  },
  {
   "cell_type": "code",
   "execution_count": 443,
   "metadata": {},
   "outputs": [
    {
     "data": {
      "text/plain": [
       "[<matplotlib.lines.Line2D at 0x7f116f1c3f90>]"
      ]
     },
     "execution_count": 443,
     "metadata": {},
     "output_type": "execute_result"
    },
    {
     "data": {
      "image/png": "[encoded data removed]",
      "text/plain": [
       "<Figure size 432x288 with 1 Axes>"
      ]
     },
     "metadata": {
      "needs_background": "light"
     },
     "output_type": "display_data"
    }
   ],
   "source": [
    "plt.plot([DV(4,x) for x in range(1,N_states)])\n",
    "plt.plot(50)"
   ]
  },
  {
   "cell_type": "code",
   "execution_count": 399,
   "metadata": {},
   "outputs": [],
   "source": [
    "sell = [x for x in reversed(list(np.cumsum(construct_optimal_trajectory(J,U))))]\n",
    "time = [t for t in range(N_steps)]"
   ]
  },
  {
   "cell_type": "code",
   "execution_count": 444,
   "metadata": {},
   "outputs": [
    {
     "data": {
      "text/plain": [
       "[75, 72, 69, 64, 58, 52, 45, 37, 28, 16]"
      ]
     },
     "execution_count": 444,
     "metadata": {},
     "output_type": "execute_result"
    }
   ],
   "source": [
    "sell"
   ]
  },
  {
   "cell_type": "code",
   "execution_count": 412,
   "metadata": {},
   "outputs": [
    {
     "data": {
      "text/plain": [
       "<matplotlib.collections.PathCollection at 0x7f116f50edd0>"
      ]
     },
     "execution_count": 412,
     "metadata": {},
     "output_type": "execute_result"
    },
    {
     "data": {
      "image/png": "[encoded data removed]",
      "text/plain": [
       "<Figure size 432x288 with 1 Axes>"
      ]
     },
     "metadata": {
      "needs_background": "light"
     },
     "output_type": "display_data"
    }
   ],
   "source": [
    "plt.scatter(x=time, y=sell)\n"
   ]
  },
  {
   "cell_type": "code",
   "execution_count": null,
   "metadata": {},
   "outputs": [],
   "source": [
    "\n",
    "\n",
    "def generate_demands(N_steps, N_states):\n",
    "    \n",
    "    vector_of_demands = [0]*N_steps\n",
    "    flag_M = 0\n",
    "    \n",
    "    max_index = 0\n",
    "    min_index = 0\n",
    "    \n",
    "    p = []\n",
    "    idx = []\n",
    "    \n",
    "    k = [i for i in range(N_states)]\n",
    "    \n",
    "    while flag_M < N_steps:\n",
    "        #print(vector_of_demands)\n",
    "        R = np.random.rand(N_states)\n",
    "        R = R/R.sum()\n",
    "        M = np.dot(R,k)\n",
    "        if M not in idx:\n",
    "            idx.append(M)\n",
    "            p.append(R)\n",
    "            flag_M +=1\n",
    "        \n",
    "    \n",
    "    #Sort demands, such that the latest (lowest price) is associated to the largest expectation\n",
    "    df = pd.DataFrame([idx,p]).T\n",
    "    D = df.sort_values(0, ascending=False)[1].values\n",
    "            \n",
    "    return list(D)\n",
    "    "
   ]
  }
 ],
 "metadata": {
  "kernelspec": {
   "display_name": "Python 3",
   "language": "python",
   "name": "python3"
  },
  "language_info": {
   "codemirror_mode": {
    "name": "ipython",
    "version": 3
   },
   "file_extension": ".py",
   "mimetype": "text/x-python",
   "name": "python",
   "nbconvert_exporter": "python",
   "pygments_lexer": "ipython3",
   "version": "3.7.5"
  }
 },
 "nbformat": 4,
 "nbformat_minor": 2
}
