{
 "cells": [
  {
   "cell_type": "code",
   "execution_count": 1,
   "metadata": {},
   "outputs": [],
   "source": [
    "import numpy as np\n",
    "import pandas as pd"
   ]
  },
  {
   "cell_type": "code",
   "execution_count": 46,
   "metadata": {},
   "outputs": [],
   "source": [
    "n_states = 9\n",
    "graph = np.zeros((n_states, n_states))\n",
    "cost = np.zeros((n_states, n_states))\n",
    "\n",
    "values = np.zeros((n_states,1))\n",
    "policy = np.zeros((n_states,1))"
   ]
  },
  {
   "cell_type": "code",
   "execution_count": 47,
   "metadata": {},
   "outputs": [],
   "source": [
    "#setting the cost of the connections\n",
    "offset = 1 #to take into account 0 counting\n",
    "\n",
    "graph[1-offset,2-offset] = 1\n",
    "cost[1-offset,2-offset] = 1\n",
    "\n",
    "graph[1-offset,3-offset] = 1\n",
    "cost[1-offset,3-offset] = 2\n",
    "\n",
    "\n",
    "graph[2-offset,5-offset] = 1\n",
    "cost[2-offset,5-offset] = 12\n",
    "\n",
    "\n",
    "graph[2-offset,4-offset] = 1\n",
    "cost[2-offset,4-offset] = 6\n",
    "\n",
    "\n",
    "graph[3-offset,4-offset] = 1\n",
    "cost[3-offset,4-offset] = 3\n",
    "\n",
    "graph[3-offset,6-offset] = 1\n",
    "cost[3-offset,6-offset] = 4\n",
    "\n",
    "graph[4-offset,5-offset] = 1\n",
    "cost[4-offset,5-offset] = 4\n",
    "\n",
    "graph[4-offset,7-offset] = 1\n",
    "cost[4-offset,7-offset] = 3\n",
    "\n",
    "graph[4-offset,8-offset] = 1\n",
    "cost[4-offset,8-offset] = 4\n",
    "\n",
    "graph[4-offset,6-offset] = 1\n",
    "cost[4-offset,6-offset] = 15\n",
    "\n",
    "graph[5-offset,7-offset] = 1\n",
    "cost[5-offset,7-offset] = 7\n",
    "\n",
    "graph[6-offset,8-offset] = 1\n",
    "cost[6-offset,8-offset] = 7\n",
    "\n",
    "graph[6-offset,9-offset] = 1\n",
    "cost[6-offset,9-offset] = 15\n",
    "\n",
    "graph[7-offset,9-offset] = 1\n",
    "cost[7-offset,9-offset] = 3\n",
    "\n",
    "graph[8-offset,9-offset] = 1\n",
    "cost[8-offset,9-offset] = 10\n"
   ]
  },
  {
   "cell_type": "code",
   "execution_count": 48,
   "metadata": {},
   "outputs": [
    {
     "data": {
      "text/plain": [
       "array([[0., 1., 1., 0., 0., 0., 0., 0., 0.],\n",
       "       [0., 0., 0., 1., 1., 0., 0., 0., 0.],\n",
       "       [0., 0., 0., 1., 0., 1., 0., 0., 0.],\n",
       "       [0., 0., 0., 0., 1., 1., 1., 1., 0.],\n",
       "       [0., 0., 0., 0., 0., 0., 1., 0., 0.],\n",
       "       [0., 0., 0., 0., 0., 0., 0., 1., 1.],\n",
       "       [0., 0., 0., 0., 0., 0., 0., 0., 1.],\n",
       "       [0., 0., 0., 0., 0., 0., 0., 0., 1.],\n",
       "       [0., 0., 0., 0., 0., 0., 0., 0., 0.]])"
      ]
     },
     "execution_count": 48,
     "metadata": {},
     "output_type": "execute_result"
    }
   ],
   "source": [
    "graph"
   ]
  },
  {
   "cell_type": "code",
   "execution_count": 49,
   "metadata": {},
   "outputs": [
    {
     "data": {
      "text/plain": [
       "array([[ 0.,  1.,  2.,  0.,  0.,  0.,  0.,  0.,  0.],\n",
       "       [ 0.,  0.,  0.,  6., 12.,  0.,  0.,  0.,  0.],\n",
       "       [ 0.,  0.,  0.,  3.,  0.,  4.,  0.,  0.,  0.],\n",
       "       [ 0.,  0.,  0.,  0.,  4., 15.,  3.,  4.,  0.],\n",
       "       [ 0.,  0.,  0.,  0.,  0.,  0.,  7.,  0.,  0.],\n",
       "       [ 0.,  0.,  0.,  0.,  0.,  0.,  0.,  7., 15.],\n",
       "       [ 0.,  0.,  0.,  0.,  0.,  0.,  0.,  0.,  3.],\n",
       "       [ 0.,  0.,  0.,  0.,  0.,  0.,  0.,  0., 10.],\n",
       "       [ 0.,  0.,  0.,  0.,  0.,  0.,  0.,  0.,  0.]])"
      ]
     },
     "execution_count": 49,
     "metadata": {},
     "output_type": "execute_result"
    }
   ],
   "source": [
    "cost"
   ]
  },
  {
   "cell_type": "markdown",
   "metadata": {},
   "source": [
    "The question is: find the shortest path from 1 to 9"
   ]
  },
  {
   "cell_type": "markdown",
   "metadata": {},
   "source": [
    "To  do that we use backward induction"
   ]
  },
  {
   "cell_type": "markdown",
   "metadata": {},
   "source": [
    "Bellman's equation"
   ]
  },
  {
   "cell_type": "markdown",
   "metadata": {},
   "source": [
    "$ v(t) = \\min_{s>=t+1} c_{ts} + v(s)$"
   ]
  },
  {
   "cell_type": "markdown",
   "metadata": {},
   "source": [
    "So we have that $v(9)$ is 0, $v(8)= \\min {c_{89}}= c_{89}=10$"
   ]
  },
  {
   "cell_type": "code",
   "execution_count": 57,
   "metadata": {},
   "outputs": [],
   "source": [
    "for i in reversed(range(n_states)):\n",
    "    possible_values = []\n",
    "    indexes = []\n",
    "    for j in range(i,n_states):\n",
    "        if graph[i,j]==1:\n",
    "            #print(cost[i,j])\n",
    "            possible_values.append(cost[i,j]+values[j])\n",
    "            indexes.append(j)\n",
    "     \n",
    "    if len(possible_values)==0:\n",
    "        values[i]=0\n",
    "    else:\n",
    "        #print(f'possible values {possible_values}')\n",
    "        values[i] = min(possible_values)\n",
    "        policy[i] = indexes[possible_values.index(min(possible_values))]"
   ]
  },
  {
   "cell_type": "code",
   "execution_count": 60,
   "metadata": {},
   "outputs": [
    {
     "data": {
      "text/plain": [
       "array([[11.],\n",
       "       [12.],\n",
       "       [ 9.],\n",
       "       [ 6.],\n",
       "       [10.],\n",
       "       [15.],\n",
       "       [ 3.],\n",
       "       [10.],\n",
       "       [ 0.]])"
      ]
     },
     "execution_count": 60,
     "metadata": {},
     "output_type": "execute_result"
    }
   ],
   "source": [
    "values"
   ]
  },
  {
   "cell_type": "code",
   "execution_count": 65,
   "metadata": {},
   "outputs": [
    {
     "data": {
      "text/plain": [
       "array([[3.],\n",
       "       [4.],\n",
       "       [4.],\n",
       "       [7.],\n",
       "       [7.],\n",
       "       [9.],\n",
       "       [9.],\n",
       "       [9.],\n",
       "       [1.]])"
      ]
     },
     "execution_count": 65,
     "metadata": {},
     "output_type": "execute_result"
    }
   ],
   "source": [
    "policy+1"
   ]
  },
  {
   "cell_type": "code",
   "execution_count": 74,
   "metadata": {},
   "outputs": [
    {
     "data": {
      "text/plain": [
       "[1, 3, 4, 7, 9]"
      ]
     },
     "execution_count": 74,
     "metadata": {},
     "output_type": "execute_result"
    }
   ],
   "source": [
    "state=0\n",
    "optimal_path = [state]\n",
    "while state < n_states-1:\n",
    "    next_state = int(policy[state][0])\n",
    "    optimal_path.append(next_state)\n",
    "    state = next_state\n",
    "    \n",
    "[1+i for i in optimal_path]"
   ]
  }
 ],
 "metadata": {
  "kernelspec": {
   "display_name": "Python 3",
   "language": "python",
   "name": "python3"
  },
  "language_info": {
   "codemirror_mode": {
    "name": "ipython",
    "version": 3
   },
   "file_extension": ".py",
   "mimetype": "text/x-python",
   "name": "python",
   "nbconvert_exporter": "python",
   "pygments_lexer": "ipython3",
   "version": "3.7.3"
  }
 },
 "nbformat": 4,
 "nbformat_minor": 2
}
